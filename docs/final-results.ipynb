{
 "cells": [
  {
   "cell_type": "markdown",
   "metadata": {},
   "source": [
    "**<font size=6>Tennessee Fuel Quality Analysis</font>**\n",
    "\n",
    "* **Date Published**: 2019/07/31\n",
    "* **Collaborators**: [Kate Hayes](https://github.com/99KHayes) & [Misha Berrien](https://github.com/mishaberrien)\n",
    "* **Data Source**: State of Tennessee Department of Agriculture"
   ]
  },
  {
   "cell_type": "markdown",
   "metadata": {},
   "source": [
    "# Introduction   \n",
    "\n",
    "In this project, we are interested in understanding if we can predict when a fuel compliance test will fail. \n",
    "\n",
    "The state of Tennessee's Department of Agriculture (TDA) maintaines a fuel quality inspection program. Each year, the state inspects all places where fuel is sold/ distributed including gas stations, terminals and airports. The results of these routine tests as well as follow up tests for complaints are maintained by the Tennessee Department of Agriculture. \n",
    "\n",
    "Although around 97% of the tests pass these compliance tests, each year around 3% of the tests fail. A failing test could mean that consumers are exposed to fuel that could do harm to their property or themselves.  \n",
    "\n",
    "## Summary of Results\n",
    "\n",
    "Although our model correctly identified 10 out of 11 of our test failures, this model had a false positive rate that was too high for our usage purposes. Additional models need to be built and tested in order to improve the F1 and precision scores. "
   ]
  },
  {
   "cell_type": "markdown",
   "metadata": {},
   "source": [
    "## Dataset\n",
    "\n",
    "Tennessee has a Sunshine law (public records law) that allows anyone to request any state record through the right legal channels. The data set was acquired in this manor. We sent an official Tennessee records request for the fuel quality data for the last 5 years. It came in the form of routine inspections and complaints one set for each years, so 10 Excel files in total.\n",
    "\n",
    "* Source: State of Tennessee Department of Agriculture\n",
    "* Time Period: Mid 2014 to early 2019\n",
    "* Number of Fuel Products: 11\n",
    "* Number of Test Types: 72"
   ]
  },
  {
   "cell_type": "markdown",
   "metadata": {},
   "source": [
    "## Key Metrics"
   ]
  },
  {
   "cell_type": "markdown",
   "metadata": {},
   "source": [
    "***The following key metrics were descriptions given to us by the TDA Fuel Quality Manager. The main thing that we were inspecting in this project was the prediction of pass/fail rates and volatility properties with the seasons.*** \n",
    "\n",
    "Volatility is an important property of gasoline because it must be able to vaporize before combusting in an engine. Three characteristics are used to measure the volatility of gasoline and evaluate suitability: vapor pressure, vapor-liquid ratio, and the distillation temperature at which 50% of the fuel is evaporated.\n",
    "\n",
    "\n",
    "* Vapor pressure is a measure of the amount of vapor that is produced by a gasoline sample at 37.8°C (100°F). Vapor pressure most affects an engine’s ease of starting. The vapor pressure specification is a maximum allowable limit reported in kilopascals. The pressure must be high enough to promote easy starting but not too high to contribute to excessive emissions or vapor lock -  the presence of too much vapor that leads to loss of engine power or rough operation.\n",
    "\n",
    "\n",
    "* Vapor-liquid ratio is the ratio of the volume of vapor to the volume of liquid at atmospheric pressure. The vapor-liquid ratio specification is a minimum allowable limit reported in degrees Celsius. The reported value is the temperature at which the vapor-liquid ratio is equal to 20 (20:1 vol/vol), the approximate temperature at which engine problems may occur. Vapor-liquid ratio is used to evaluate a gasoline sample’s tolerance to changes in temperature. A noncompliant test result (too low) may lead to vapor lock or hot fuel handling problems, as evidenced by loss of power while accelerating or idling.\n",
    "\n",
    "\n",
    "* Distillation measures the temperature range across which a sample is heated to fully evaporate. The temperature at which 50% of a sample is evaporated (T50) relates to the driveability (smoothness and ease of driving) and idling characteristics for the fuel. T50 most similarly relates to how a fuel performs under continuous activity (not starting or warming up). T50 has minimum and maximum allowable limits reported in degrees Celsius."
   ]
  },
  {
   "cell_type": "markdown",
   "metadata": {},
   "source": [
    "## Questions"
   ]
  },
  {
   "cell_type": "markdown",
   "metadata": {},
   "source": [
    "For this project, we are interested in two distinct questions: \n",
    "\n",
    "1. Is there seasonality associated with fuel compliance tests failures in the state of Tennessee? \n",
    "1. Can we use data collected by fuel inspectors to better predict gas station fuel test failures in the state of Tennessee?"
   ]
  },
  {
   "cell_type": "markdown",
   "metadata": {},
   "source": [
    "# Logistic Regression Analysis\n",
    "\n",
    "The original dataset contains information tests for a number of different fuels (jet fuel, diesel, gasoline, etc.). For this project, we are only interested in making predictions about consumer facing gas-stations, so we have restricted our dataset to gasoline products. Below we load and clean our dataset as well as build and evaluate our model. "
   ]
  },
  {
   "cell_type": "code",
   "execution_count": 1,
   "metadata": {},
   "outputs": [
    {
     "name": "stderr",
     "output_type": "stream",
     "text": [
      "/anaconda3/lib/python3.7/site-packages/statsmodels/compat/pandas.py:49: FutureWarning: The Panel class is removed from pandas. Accessing it from the top-level namespace will also be removed in the next version\n",
      "  data_klasses = (pandas.Series, pandas.DataFrame, pandas.Panel)\n"
     ]
    }
   ],
   "source": [
    "import matplotlib.pyplot as plt\n",
    "import pandas as pd\n",
    "import numpy as np\n",
    "import os\n",
    "import scipy.stats as stat\n",
    "import seaborn as sns\n",
    "import sklearn.preprocessing as preprocessing\n",
    "import statsmodels.api as sm\n",
    "import sys\n",
    "\n",
    "from imblearn.over_sampling import SMOTE, ADASYN\n",
    "from sklearn.linear_model import LogisticRegression\n",
    "from sklearn.metrics import precision_score, recall_score, accuracy_score, f1_score\n",
    "from sklearn.metrics import roc_curve, auc, confusion_matrix, precision_recall_curve\n",
    "from sklearn.model_selection import train_test_split\n",
    "from sklearn.preprocessing import StandardScaler\n",
    "from imblearn.over_sampling import SMOTE, ADASYN\n",
    "\n",
    "\n",
    "src_dir = os.path.join(os.getcwd(), '..', '..', 'src')\n",
    "sys.path.append(src_dir)\n",
    "\n",
    "# helper functions\n",
    "from d01_data.intermediate_cleaning import concatenate_and_save_intermediate_files, clean_dataset_intermediate_1, clean_dataset_intermediate_2\n",
    "from d03_processing.feature_engineering import merge_gasoline_asm_datasets\n",
    "from d04_modelling.modelling import get_model_pvalue\n",
    "from d03_processing.Time_series_cleaning import date_results_df_creator\n",
    "from d03_processing.Time_series_cleaning import volatilty_ASTM_df_creator\n",
    "from d03_processing.Time_series_cleaning import stationarity_check\n",
    "from d03_processing.Time_series_cleaning import seasonal_decomp_graphs\n",
    "\n",
    "# supress jupyter notebook warnings for final submission\n",
    "import warnings\n",
    "warnings.filterwarnings('ignore')\n",
    "\n",
    "# Load the \"autoreload\" extension\n",
    "%load_ext autoreload\n",
    "\n",
    "# reload modules so that as you change code in src, it gets loaded\n",
    "%autoreload\n",
    "\n",
    "%matplotlib inline"
   ]
  },
  {
   "cell_type": "markdown",
   "metadata": {},
   "source": [
    "## Load and Process Datasets\n",
    "\n",
    "_**NOTE:** The functions for cleaning and processing the dataset can be found in the src/d03 processing folder_\n",
    "\n",
    "The four functions called below clean, concatenate and prepare the dataset for model building. Our dataset was originally spread across 5 years. The below functions concatenated all years, imputed missing values and dropped null values and unnecessary columns. Below we also read in the dataset ASTM (this set contains seasonal information for Tennessee gasoline requirements) and merge it with our original dataset. "
   ]
  },
  {
   "cell_type": "code",
   "execution_count": 2,
   "metadata": {},
   "outputs": [],
   "source": [
    "# gasoline_proc = pd.read_csv('../../data/03_processed/gasoline_processed.csv')\n",
    "astm = pd.read_csv('../../data/01_raw/ASTM_fuel.csv')\n",
    "astm.columns = ['Date', 'TN_retailers_seasons', 'TN_distributor_seasons',\n",
    "       'vapor_liquid_minC_retail', 'distillation_50_minC _retail',\n",
    "       'distillation_50_maxC_retail', 'vapor_pressure_maxC_retail',\n",
    "       'vapor_liquid_minC_dist', 'distillation_50_minC_dist',\n",
    "       'distillation_50_maxC_dist', 'vapor_pressure_maxC_dist']"
   ]
  },
  {
   "cell_type": "code",
   "execution_count": 3,
   "metadata": {},
   "outputs": [],
   "source": [
    "concatenate_and_save_intermediate_files('fy_*_routine', 'routine_full')"
   ]
  },
  {
   "cell_type": "code",
   "execution_count": 4,
   "metadata": {
    "scrolled": true
   },
   "outputs": [],
   "source": [
    "routine_full = pd.read_csv('../../data/02_intermediate/routine_full.csv')"
   ]
  },
  {
   "cell_type": "code",
   "execution_count": 5,
   "metadata": {},
   "outputs": [],
   "source": [
    "routine_clean = clean_dataset_intermediate_1(routine_full)"
   ]
  },
  {
   "cell_type": "code",
   "execution_count": 6,
   "metadata": {},
   "outputs": [],
   "source": [
    "gasoline_clean = clean_dataset_intermediate_2(routine_clean)"
   ]
  },
  {
   "cell_type": "code",
   "execution_count": 7,
   "metadata": {
    "scrolled": true
   },
   "outputs": [],
   "source": [
    "gasoline = merge_gasoline_asm_datasets(gasoline_clean, astm)"
   ]
  },
  {
   "cell_type": "markdown",
   "metadata": {},
   "source": [
    "## Visualize Final Dataset\n",
    "\n",
    "Let's take a look at our final dataset before we fit our first model. "
   ]
  },
  {
   "cell_type": "code",
   "execution_count": 8,
   "metadata": {},
   "outputs": [
    {
     "data": {
      "text/html": [
       "<div>\n",
       "<style scoped>\n",
       "    .dataframe tbody tr th:only-of-type {\n",
       "        vertical-align: middle;\n",
       "    }\n",
       "\n",
       "    .dataframe tbody tr th {\n",
       "        vertical-align: top;\n",
       "    }\n",
       "\n",
       "    .dataframe thead th {\n",
       "        text-align: right;\n",
       "    }\n",
       "</style>\n",
       "<table border=\"1\" class=\"dataframe\">\n",
       "  <thead>\n",
       "    <tr style=\"text-align: right;\">\n",
       "      <th></th>\n",
       "      <th>Sample</th>\n",
       "      <th>prod</th>\n",
       "      <th>datesampled</th>\n",
       "      <th>grade</th>\n",
       "      <th>supplier</th>\n",
       "      <th>facilityname</th>\n",
       "      <th>siteaddress</th>\n",
       "      <th>units_dist_50</th>\n",
       "      <th>units_vap_pressure</th>\n",
       "      <th>units_vap_liq_pressure</th>\n",
       "      <th>...</th>\n",
       "      <th>TN_retailers_seasons</th>\n",
       "      <th>TN_distributor_seasons</th>\n",
       "      <th>vapor_liquid_minC_retail</th>\n",
       "      <th>distillation_50_minC _retail</th>\n",
       "      <th>distillation_50_maxC_retail</th>\n",
       "      <th>vapor_pressure_maxC_retail</th>\n",
       "      <th>vapor_liquid_minC_dist</th>\n",
       "      <th>distillation_50_minC_dist</th>\n",
       "      <th>distillation_50_maxC_dist</th>\n",
       "      <th>vapor_pressure_maxC_dist</th>\n",
       "    </tr>\n",
       "  </thead>\n",
       "  <tbody>\n",
       "    <tr>\n",
       "      <th>0</th>\n",
       "      <td>61916134</td>\n",
       "      <td>Gasoline</td>\n",
       "      <td>2015-11-23</td>\n",
       "      <td>Mid Grade Unleaded</td>\n",
       "      <td>Marathon Petroleum Lp</td>\n",
       "      <td>Circle K #2723609</td>\n",
       "      <td>198 Haywood Ln \\r\\nnashville, Tn 37211</td>\n",
       "      <td>Deg. C</td>\n",
       "      <td>kPa</td>\n",
       "      <td>Deg. C</td>\n",
       "      <td>...</td>\n",
       "      <td>C-3/D-4</td>\n",
       "      <td>C-3/D-4</td>\n",
       "      <td>42.0</td>\n",
       "      <td>77.0</td>\n",
       "      <td>116.0</td>\n",
       "      <td>93.0</td>\n",
       "      <td>42.0</td>\n",
       "      <td>77.0</td>\n",
       "      <td>116.0</td>\n",
       "      <td>93.0</td>\n",
       "    </tr>\n",
       "    <tr>\n",
       "      <th>1</th>\n",
       "      <td>61916136</td>\n",
       "      <td>Gasoline</td>\n",
       "      <td>2015-11-24</td>\n",
       "      <td>Mid Grade Unleaded</td>\n",
       "      <td>Tri-star Energy</td>\n",
       "      <td>Twice Daily  #8085</td>\n",
       "      <td>648 Thompson Ln \\r\\nnashville, Tn 37204</td>\n",
       "      <td>Deg. C</td>\n",
       "      <td>kPa</td>\n",
       "      <td>Deg. C</td>\n",
       "      <td>...</td>\n",
       "      <td>C-3/D-4</td>\n",
       "      <td>C-3/D-4</td>\n",
       "      <td>42.0</td>\n",
       "      <td>77.0</td>\n",
       "      <td>116.0</td>\n",
       "      <td>93.0</td>\n",
       "      <td>42.0</td>\n",
       "      <td>77.0</td>\n",
       "      <td>116.0</td>\n",
       "      <td>93.0</td>\n",
       "    </tr>\n",
       "    <tr>\n",
       "      <th>2</th>\n",
       "      <td>61916138</td>\n",
       "      <td>Gasoline</td>\n",
       "      <td>2015-11-24</td>\n",
       "      <td>Regular Unleaded</td>\n",
       "      <td>Mapco Express, Inc.</td>\n",
       "      <td>Mapco Express    #3195</td>\n",
       "      <td>4677 Trousdale Dr  Nashville, Tn  37204</td>\n",
       "      <td>Deg. C</td>\n",
       "      <td>kPa</td>\n",
       "      <td>Deg. C</td>\n",
       "      <td>...</td>\n",
       "      <td>C-3/D-4</td>\n",
       "      <td>C-3/D-4</td>\n",
       "      <td>42.0</td>\n",
       "      <td>77.0</td>\n",
       "      <td>116.0</td>\n",
       "      <td>93.0</td>\n",
       "      <td>42.0</td>\n",
       "      <td>77.0</td>\n",
       "      <td>116.0</td>\n",
       "      <td>93.0</td>\n",
       "    </tr>\n",
       "  </tbody>\n",
       "</table>\n",
       "<p>3 rows × 38 columns</p>\n",
       "</div>"
      ],
      "text/plain": [
       "     Sample      prod datesampled               grade               supplier  \\\n",
       "0  61916134  Gasoline  2015-11-23  Mid Grade Unleaded  Marathon Petroleum Lp   \n",
       "1  61916136  Gasoline  2015-11-24  Mid Grade Unleaded        Tri-star Energy   \n",
       "2  61916138  Gasoline  2015-11-24    Regular Unleaded    Mapco Express, Inc.   \n",
       "\n",
       "             facilityname                              siteaddress  \\\n",
       "0       Circle K #2723609   198 Haywood Ln \\r\\nnashville, Tn 37211   \n",
       "1      Twice Daily  #8085  648 Thompson Ln \\r\\nnashville, Tn 37204   \n",
       "2  Mapco Express    #3195  4677 Trousdale Dr  Nashville, Tn  37204   \n",
       "\n",
       "  units_dist_50 units_vap_pressure units_vap_liq_pressure  ...  \\\n",
       "0        Deg. C                kPa                 Deg. C  ...   \n",
       "1        Deg. C                kPa                 Deg. C  ...   \n",
       "2        Deg. C                kPa                 Deg. C  ...   \n",
       "\n",
       "  TN_retailers_seasons TN_distributor_seasons vapor_liquid_minC_retail  \\\n",
       "0              C-3/D-4                C-3/D-4                     42.0   \n",
       "1              C-3/D-4                C-3/D-4                     42.0   \n",
       "2              C-3/D-4                C-3/D-4                     42.0   \n",
       "\n",
       "  distillation_50_minC _retail distillation_50_maxC_retail  \\\n",
       "0                         77.0                       116.0   \n",
       "1                         77.0                       116.0   \n",
       "2                         77.0                       116.0   \n",
       "\n",
       "  vapor_pressure_maxC_retail vapor_liquid_minC_dist distillation_50_minC_dist  \\\n",
       "0                       93.0                   42.0                      77.0   \n",
       "1                       93.0                   42.0                      77.0   \n",
       "2                       93.0                   42.0                      77.0   \n",
       "\n",
       "  distillation_50_maxC_dist vapor_pressure_maxC_dist  \n",
       "0                     116.0                     93.0  \n",
       "1                     116.0                     93.0  \n",
       "2                     116.0                     93.0  \n",
       "\n",
       "[3 rows x 38 columns]"
      ]
     },
     "execution_count": 8,
     "metadata": {},
     "output_type": "execute_result"
    }
   ],
   "source": [
    "gasoline.head(3)"
   ]
  },
  {
   "cell_type": "markdown",
   "metadata": {},
   "source": [
    "In the final dataset, we have 38 columns and 12,974 rows. "
   ]
  },
  {
   "cell_type": "code",
   "execution_count": 9,
   "metadata": {},
   "outputs": [
    {
     "name": "stdout",
     "output_type": "stream",
     "text": [
      "<class 'pandas.core.frame.DataFrame'>\n",
      "RangeIndex: 12983 entries, 0 to 12982\n",
      "Data columns (total 38 columns):\n",
      "Sample                          12983 non-null object\n",
      "prod                            12983 non-null object\n",
      "datesampled                     12983 non-null datetime64[ns]\n",
      "grade                           12983 non-null object\n",
      "supplier                        12983 non-null object\n",
      "facilityname                    12983 non-null object\n",
      "siteaddress                     12983 non-null object\n",
      "units_dist_50                   12983 non-null object\n",
      "units_vap_pressure              12983 non-null object\n",
      "units_vap_liq_pressure          12983 non-null object\n",
      "method_dist_50                  12983 non-null object\n",
      "method_vap_pressure             12983 non-null object\n",
      "method_vap_liq_pressure         12983 non-null object\n",
      "result_dist_50                  12983 non-null object\n",
      "result_vap_pressure             12983 non-null object\n",
      "result_vap_liq_pressure         12983 non-null object\n",
      "minresults_dist_50              12983 non-null object\n",
      "minresults_vap_pressure         12983 non-null object\n",
      "minresults_vap_liq_pressure     12983 non-null object\n",
      "maxresults_dist_50              12983 non-null object\n",
      "maxresults_vap_pressure         12983 non-null object\n",
      "maxresults_vap_liq_pressure     12983 non-null object\n",
      "compliance_dist_50              12983 non-null object\n",
      "compliance_vap_pressure         12983 non-null object\n",
      "compliance_vap_liq_pressure     12983 non-null object\n",
      "datesampled_month               12983 non-null int64\n",
      "datesampled_day                 12983 non-null int64\n",
      "Date                            12983 non-null object\n",
      "TN_retailers_seasons            12974 non-null object\n",
      "TN_distributor_seasons          12974 non-null object\n",
      "vapor_liquid_minC_retail        12974 non-null float64\n",
      "distillation_50_minC _retail    12974 non-null float64\n",
      "distillation_50_maxC_retail     12974 non-null float64\n",
      "vapor_pressure_maxC_retail      12974 non-null float64\n",
      "vapor_liquid_minC_dist          12974 non-null float64\n",
      "distillation_50_minC_dist       12974 non-null float64\n",
      "distillation_50_maxC_dist       12974 non-null float64\n",
      "vapor_pressure_maxC_dist        12974 non-null float64\n",
      "dtypes: datetime64[ns](1), float64(8), int64(2), object(27)\n",
      "memory usage: 3.8+ MB\n"
     ]
    }
   ],
   "source": [
    "gasoline.info()"
   ]
  },
  {
   "cell_type": "markdown",
   "metadata": {},
   "source": [
    "We still have have a few columns with Nan values (these are from our merged dataset in the data cleaning). Since it's only "
   ]
  },
  {
   "cell_type": "code",
   "execution_count": 10,
   "metadata": {},
   "outputs": [],
   "source": [
    "gasoline.dropna(inplace=True)"
   ]
  },
  {
   "cell_type": "code",
   "execution_count": 11,
   "metadata": {},
   "outputs": [
    {
     "data": {
      "text/html": [
       "<div>\n",
       "<style scoped>\n",
       "    .dataframe tbody tr th:only-of-type {\n",
       "        vertical-align: middle;\n",
       "    }\n",
       "\n",
       "    .dataframe tbody tr th {\n",
       "        vertical-align: top;\n",
       "    }\n",
       "\n",
       "    .dataframe thead th {\n",
       "        text-align: right;\n",
       "    }\n",
       "</style>\n",
       "<table border=\"1\" class=\"dataframe\">\n",
       "  <thead>\n",
       "    <tr style=\"text-align: right;\">\n",
       "      <th></th>\n",
       "      <th>datesampled_month</th>\n",
       "      <th>datesampled_day</th>\n",
       "      <th>vapor_liquid_minC_retail</th>\n",
       "      <th>distillation_50_minC _retail</th>\n",
       "      <th>distillation_50_maxC_retail</th>\n",
       "      <th>vapor_pressure_maxC_retail</th>\n",
       "      <th>vapor_liquid_minC_dist</th>\n",
       "      <th>distillation_50_minC_dist</th>\n",
       "      <th>distillation_50_maxC_dist</th>\n",
       "      <th>vapor_pressure_maxC_dist</th>\n",
       "    </tr>\n",
       "  </thead>\n",
       "  <tbody>\n",
       "    <tr>\n",
       "      <th>datesampled_month</th>\n",
       "      <td>1.000000</td>\n",
       "      <td>-0.040802</td>\n",
       "      <td>0.145394</td>\n",
       "      <td>NaN</td>\n",
       "      <td>0.084380</td>\n",
       "      <td>-0.206351</td>\n",
       "      <td>0.145394</td>\n",
       "      <td>NaN</td>\n",
       "      <td>0.084380</td>\n",
       "      <td>-0.131068</td>\n",
       "    </tr>\n",
       "    <tr>\n",
       "      <th>datesampled_day</th>\n",
       "      <td>-0.040802</td>\n",
       "      <td>1.000000</td>\n",
       "      <td>-0.015677</td>\n",
       "      <td>NaN</td>\n",
       "      <td>-0.000156</td>\n",
       "      <td>0.030501</td>\n",
       "      <td>-0.015677</td>\n",
       "      <td>NaN</td>\n",
       "      <td>-0.000156</td>\n",
       "      <td>0.043354</td>\n",
       "    </tr>\n",
       "    <tr>\n",
       "      <th>vapor_liquid_minC_retail</th>\n",
       "      <td>0.145394</td>\n",
       "      <td>-0.015677</td>\n",
       "      <td>1.000000</td>\n",
       "      <td>NaN</td>\n",
       "      <td>0.730640</td>\n",
       "      <td>-0.937519</td>\n",
       "      <td>1.000000</td>\n",
       "      <td>NaN</td>\n",
       "      <td>0.730640</td>\n",
       "      <td>-0.937577</td>\n",
       "    </tr>\n",
       "    <tr>\n",
       "      <th>distillation_50_minC _retail</th>\n",
       "      <td>NaN</td>\n",
       "      <td>NaN</td>\n",
       "      <td>NaN</td>\n",
       "      <td>NaN</td>\n",
       "      <td>NaN</td>\n",
       "      <td>NaN</td>\n",
       "      <td>NaN</td>\n",
       "      <td>NaN</td>\n",
       "      <td>NaN</td>\n",
       "      <td>NaN</td>\n",
       "    </tr>\n",
       "    <tr>\n",
       "      <th>distillation_50_maxC_retail</th>\n",
       "      <td>0.084380</td>\n",
       "      <td>-0.000156</td>\n",
       "      <td>0.730640</td>\n",
       "      <td>NaN</td>\n",
       "      <td>1.000000</td>\n",
       "      <td>-0.728607</td>\n",
       "      <td>0.730640</td>\n",
       "      <td>NaN</td>\n",
       "      <td>1.000000</td>\n",
       "      <td>-0.761139</td>\n",
       "    </tr>\n",
       "    <tr>\n",
       "      <th>vapor_pressure_maxC_retail</th>\n",
       "      <td>-0.206351</td>\n",
       "      <td>0.030501</td>\n",
       "      <td>-0.937519</td>\n",
       "      <td>NaN</td>\n",
       "      <td>-0.728607</td>\n",
       "      <td>1.000000</td>\n",
       "      <td>-0.937519</td>\n",
       "      <td>NaN</td>\n",
       "      <td>-0.728607</td>\n",
       "      <td>0.946643</td>\n",
       "    </tr>\n",
       "    <tr>\n",
       "      <th>vapor_liquid_minC_dist</th>\n",
       "      <td>0.145394</td>\n",
       "      <td>-0.015677</td>\n",
       "      <td>1.000000</td>\n",
       "      <td>NaN</td>\n",
       "      <td>0.730640</td>\n",
       "      <td>-0.937519</td>\n",
       "      <td>1.000000</td>\n",
       "      <td>NaN</td>\n",
       "      <td>0.730640</td>\n",
       "      <td>-0.937577</td>\n",
       "    </tr>\n",
       "    <tr>\n",
       "      <th>distillation_50_minC_dist</th>\n",
       "      <td>NaN</td>\n",
       "      <td>NaN</td>\n",
       "      <td>NaN</td>\n",
       "      <td>NaN</td>\n",
       "      <td>NaN</td>\n",
       "      <td>NaN</td>\n",
       "      <td>NaN</td>\n",
       "      <td>NaN</td>\n",
       "      <td>NaN</td>\n",
       "      <td>NaN</td>\n",
       "    </tr>\n",
       "    <tr>\n",
       "      <th>distillation_50_maxC_dist</th>\n",
       "      <td>0.084380</td>\n",
       "      <td>-0.000156</td>\n",
       "      <td>0.730640</td>\n",
       "      <td>NaN</td>\n",
       "      <td>1.000000</td>\n",
       "      <td>-0.728607</td>\n",
       "      <td>0.730640</td>\n",
       "      <td>NaN</td>\n",
       "      <td>1.000000</td>\n",
       "      <td>-0.761139</td>\n",
       "    </tr>\n",
       "    <tr>\n",
       "      <th>vapor_pressure_maxC_dist</th>\n",
       "      <td>-0.131068</td>\n",
       "      <td>0.043354</td>\n",
       "      <td>-0.937577</td>\n",
       "      <td>NaN</td>\n",
       "      <td>-0.761139</td>\n",
       "      <td>0.946643</td>\n",
       "      <td>-0.937577</td>\n",
       "      <td>NaN</td>\n",
       "      <td>-0.761139</td>\n",
       "      <td>1.000000</td>\n",
       "    </tr>\n",
       "  </tbody>\n",
       "</table>\n",
       "</div>"
      ],
      "text/plain": [
       "                              datesampled_month  datesampled_day  \\\n",
       "datesampled_month                      1.000000        -0.040802   \n",
       "datesampled_day                       -0.040802         1.000000   \n",
       "vapor_liquid_minC_retail               0.145394        -0.015677   \n",
       "distillation_50_minC _retail                NaN              NaN   \n",
       "distillation_50_maxC_retail            0.084380        -0.000156   \n",
       "vapor_pressure_maxC_retail            -0.206351         0.030501   \n",
       "vapor_liquid_minC_dist                 0.145394        -0.015677   \n",
       "distillation_50_minC_dist                   NaN              NaN   \n",
       "distillation_50_maxC_dist              0.084380        -0.000156   \n",
       "vapor_pressure_maxC_dist              -0.131068         0.043354   \n",
       "\n",
       "                              vapor_liquid_minC_retail  \\\n",
       "datesampled_month                             0.145394   \n",
       "datesampled_day                              -0.015677   \n",
       "vapor_liquid_minC_retail                      1.000000   \n",
       "distillation_50_minC _retail                       NaN   \n",
       "distillation_50_maxC_retail                   0.730640   \n",
       "vapor_pressure_maxC_retail                   -0.937519   \n",
       "vapor_liquid_minC_dist                        1.000000   \n",
       "distillation_50_minC_dist                          NaN   \n",
       "distillation_50_maxC_dist                     0.730640   \n",
       "vapor_pressure_maxC_dist                     -0.937577   \n",
       "\n",
       "                              distillation_50_minC _retail  \\\n",
       "datesampled_month                                      NaN   \n",
       "datesampled_day                                        NaN   \n",
       "vapor_liquid_minC_retail                               NaN   \n",
       "distillation_50_minC _retail                           NaN   \n",
       "distillation_50_maxC_retail                            NaN   \n",
       "vapor_pressure_maxC_retail                             NaN   \n",
       "vapor_liquid_minC_dist                                 NaN   \n",
       "distillation_50_minC_dist                              NaN   \n",
       "distillation_50_maxC_dist                              NaN   \n",
       "vapor_pressure_maxC_dist                               NaN   \n",
       "\n",
       "                              distillation_50_maxC_retail  \\\n",
       "datesampled_month                                0.084380   \n",
       "datesampled_day                                 -0.000156   \n",
       "vapor_liquid_minC_retail                         0.730640   \n",
       "distillation_50_minC _retail                          NaN   \n",
       "distillation_50_maxC_retail                      1.000000   \n",
       "vapor_pressure_maxC_retail                      -0.728607   \n",
       "vapor_liquid_minC_dist                           0.730640   \n",
       "distillation_50_minC_dist                             NaN   \n",
       "distillation_50_maxC_dist                        1.000000   \n",
       "vapor_pressure_maxC_dist                        -0.761139   \n",
       "\n",
       "                              vapor_pressure_maxC_retail  \\\n",
       "datesampled_month                              -0.206351   \n",
       "datesampled_day                                 0.030501   \n",
       "vapor_liquid_minC_retail                       -0.937519   \n",
       "distillation_50_minC _retail                         NaN   \n",
       "distillation_50_maxC_retail                    -0.728607   \n",
       "vapor_pressure_maxC_retail                      1.000000   \n",
       "vapor_liquid_minC_dist                         -0.937519   \n",
       "distillation_50_minC_dist                            NaN   \n",
       "distillation_50_maxC_dist                      -0.728607   \n",
       "vapor_pressure_maxC_dist                        0.946643   \n",
       "\n",
       "                              vapor_liquid_minC_dist  \\\n",
       "datesampled_month                           0.145394   \n",
       "datesampled_day                            -0.015677   \n",
       "vapor_liquid_minC_retail                    1.000000   \n",
       "distillation_50_minC _retail                     NaN   \n",
       "distillation_50_maxC_retail                 0.730640   \n",
       "vapor_pressure_maxC_retail                 -0.937519   \n",
       "vapor_liquid_minC_dist                      1.000000   \n",
       "distillation_50_minC_dist                        NaN   \n",
       "distillation_50_maxC_dist                   0.730640   \n",
       "vapor_pressure_maxC_dist                   -0.937577   \n",
       "\n",
       "                              distillation_50_minC_dist  \\\n",
       "datesampled_month                                   NaN   \n",
       "datesampled_day                                     NaN   \n",
       "vapor_liquid_minC_retail                            NaN   \n",
       "distillation_50_minC _retail                        NaN   \n",
       "distillation_50_maxC_retail                         NaN   \n",
       "vapor_pressure_maxC_retail                          NaN   \n",
       "vapor_liquid_minC_dist                              NaN   \n",
       "distillation_50_minC_dist                           NaN   \n",
       "distillation_50_maxC_dist                           NaN   \n",
       "vapor_pressure_maxC_dist                            NaN   \n",
       "\n",
       "                              distillation_50_maxC_dist  \\\n",
       "datesampled_month                              0.084380   \n",
       "datesampled_day                               -0.000156   \n",
       "vapor_liquid_minC_retail                       0.730640   \n",
       "distillation_50_minC _retail                        NaN   \n",
       "distillation_50_maxC_retail                    1.000000   \n",
       "vapor_pressure_maxC_retail                    -0.728607   \n",
       "vapor_liquid_minC_dist                         0.730640   \n",
       "distillation_50_minC_dist                           NaN   \n",
       "distillation_50_maxC_dist                      1.000000   \n",
       "vapor_pressure_maxC_dist                      -0.761139   \n",
       "\n",
       "                              vapor_pressure_maxC_dist  \n",
       "datesampled_month                            -0.131068  \n",
       "datesampled_day                               0.043354  \n",
       "vapor_liquid_minC_retail                     -0.937577  \n",
       "distillation_50_minC _retail                       NaN  \n",
       "distillation_50_maxC_retail                  -0.761139  \n",
       "vapor_pressure_maxC_retail                    0.946643  \n",
       "vapor_liquid_minC_dist                       -0.937577  \n",
       "distillation_50_minC_dist                          NaN  \n",
       "distillation_50_maxC_dist                    -0.761139  \n",
       "vapor_pressure_maxC_dist                      1.000000  "
      ]
     },
     "execution_count": 11,
     "metadata": {},
     "output_type": "execute_result"
    }
   ],
   "source": [
    "gasoline.corr()"
   ]
  },
  {
   "cell_type": "markdown",
   "metadata": {},
   "source": [
    "## Build & Choose Model"
   ]
  },
  {
   "cell_type": "markdown",
   "metadata": {},
   "source": [
    "### Model 1: Vapor Liquid-Ratio Test Outcome ~ Grade"
   ]
  },
  {
   "cell_type": "code",
   "execution_count": 12,
   "metadata": {},
   "outputs": [],
   "source": [
    "# construct features \n",
    "x_feats = ['grade']\n",
    "X = pd.get_dummies(gasoline[x_feats], dtype=float)\n",
    "X = sm.tools.add_constant(X)\n",
    "# convert target using get_dummies\n",
    "y = gasoline.compliance_vap_liq_pressure.map({'Y': 0, 'N': 1})"
   ]
  },
  {
   "cell_type": "code",
   "execution_count": 13,
   "metadata": {},
   "outputs": [],
   "source": [
    "X_train, X_test, y_train, y_test = train_test_split(X, y, test_size=0.3, random_state=0, stratify=y)"
   ]
  },
  {
   "cell_type": "code",
   "execution_count": 14,
   "metadata": {},
   "outputs": [
    {
     "name": "stdout",
     "output_type": "stream",
     "text": [
      "Original Count: \n",
      "\n",
      "Label Count '1': 26\n",
      "Label Count '0': 9055 \n",
      "\n"
     ]
    }
   ],
   "source": [
    "print('Original Count:', '\\n')\n",
    "print(\"Label Count '1': {}\".format(sum(y_train==1)))\n",
    "print(\"Label Count '0': {} \\n\".format(sum(y_train==0)))"
   ]
  },
  {
   "cell_type": "markdown",
   "metadata": {},
   "source": [
    "Our dataset is heavily imbalanced with a 26 to 9,055 ratio of 1s to 0s in our training set. In order to find a reliable result, we need to balance these numbers with oversampling. "
   ]
  },
  {
   "cell_type": "markdown",
   "metadata": {},
   "source": [
    "#### Oversampling\n",
    "\n",
    "Let's use SMOTE to create synthetic data points. "
   ]
  },
  {
   "cell_type": "code",
   "execution_count": 15,
   "metadata": {},
   "outputs": [],
   "source": [
    "smote = SMOTE()\n",
    "\n",
    "# simple resampling from your previously split data\n",
    "X_train_resampled, y_train_resampled = smote.fit_sample(X_train, y_train.ravel())"
   ]
  },
  {
   "cell_type": "code",
   "execution_count": 16,
   "metadata": {
    "scrolled": true
   },
   "outputs": [
    {
     "name": "stdout",
     "output_type": "stream",
     "text": [
      "Updated w. Smote: \n",
      "\n",
      "Label Count '1': 9055\n",
      "Label Count '0': 9055 \n",
      "\n"
     ]
    }
   ],
   "source": [
    "print('Updated w. Smote:', '\\n')\n",
    "print(\"Label Count '1': {}\".format(sum(y_train_resampled==1)))\n",
    "print(\"Label Count '0': {} \\n\".format(sum(y_train_resampled==0)))"
   ]
  },
  {
   "cell_type": "markdown",
   "metadata": {},
   "source": [
    "We now have a balanced dataset to build our models with. Let's build our first model. "
   ]
  },
  {
   "cell_type": "code",
   "execution_count": 17,
   "metadata": {
    "scrolled": true
   },
   "outputs": [
    {
     "data": {
      "text/plain": [
       "LogisticRegression(C=1000000000000.0, class_weight=None, dual=False,\n",
       "                   fit_intercept=False, intercept_scaling=1, l1_ratio=None,\n",
       "                   max_iter=100, multi_class='warn', n_jobs=None, penalty='l2',\n",
       "                   random_state=None, solver='warn', tol=0.0001, verbose=0,\n",
       "                   warm_start=False)"
      ]
     },
     "execution_count": 17,
     "metadata": {},
     "output_type": "execute_result"
    }
   ],
   "source": [
    "logreg = LogisticRegression(fit_intercept = False, C = 1e12)\n",
    "model_log1 = logreg.fit(X_train_resampled, y_train_resampled)\n",
    "model_log1"
   ]
  },
  {
   "cell_type": "markdown",
   "metadata": {},
   "source": [
    "#### Testing Model 1"
   ]
  },
  {
   "cell_type": "markdown",
   "metadata": {},
   "source": [
    "Let's make predictions with the test and train dataset for our first model and check the accuracy score. "
   ]
  },
  {
   "cell_type": "code",
   "execution_count": 18,
   "metadata": {},
   "outputs": [],
   "source": [
    "y_pred_test = logreg.predict(X_test)\n",
    "y_pred_train = logreg.predict(X_train)"
   ]
  },
  {
   "cell_type": "code",
   "execution_count": 19,
   "metadata": {},
   "outputs": [
    {
     "name": "stdout",
     "output_type": "stream",
     "text": [
      "Training Accuracy:  0.520537385750468\n",
      "Testing Accuracy:  0.5278705368610326\n"
     ]
    }
   ],
   "source": [
    "print('Training Accuracy: ', accuracy_score(y_train, y_pred_train))\n",
    "print('Testing Accuracy: ', accuracy_score(y_test, y_pred_test))"
   ]
  },
  {
   "cell_type": "markdown",
   "metadata": {},
   "source": [
    "This model gives us an accuracy only slightly better than chance. Let's build a second model and see if we can raise the accuracy score. "
   ]
  },
  {
   "cell_type": "markdown",
   "metadata": {},
   "source": [
    "### Model 2: Vapor Liquid-Ratio Test Outcome ~ Tennessee Retailers Season & Grade"
   ]
  },
  {
   "cell_type": "markdown",
   "metadata": {},
   "source": [
    "We will repeat the process laid out above for our second model"
   ]
  },
  {
   "cell_type": "code",
   "execution_count": 20,
   "metadata": {},
   "outputs": [],
   "source": [
    "# construct features \n",
    "x_feats = ['TN_retailers_seasons', 'grade']\n",
    "X = pd.get_dummies(gasoline[x_feats], dtype=float)\n",
    "X = sm.tools.add_constant(X)\n",
    "# convert target using get_dummies\n",
    "y = gasoline.compliance_vap_liq_pressure.map({'Y': 0, 'N': 1})"
   ]
  },
  {
   "cell_type": "code",
   "execution_count": 21,
   "metadata": {},
   "outputs": [],
   "source": [
    "X_train, X_test, y_train, y_test = train_test_split(X, y, \n",
    "                                                    test_size=0.3, random_state=0, stratify=y)"
   ]
  },
  {
   "cell_type": "code",
   "execution_count": 22,
   "metadata": {},
   "outputs": [],
   "source": [
    "smote = SMOTE()\n",
    "\n",
    "# simple resampling from your previously split data\n",
    "X_train_resampled, y_train_resampled = smote.fit_sample(X_train, y_train.ravel())"
   ]
  },
  {
   "cell_type": "code",
   "execution_count": 23,
   "metadata": {},
   "outputs": [
    {
     "data": {
      "text/plain": [
       "LogisticRegression(C=1000000000000.0, class_weight=None, dual=False,\n",
       "                   fit_intercept=False, intercept_scaling=1, l1_ratio=None,\n",
       "                   max_iter=100, multi_class='warn', n_jobs=None, penalty='l2',\n",
       "                   random_state=None, solver='warn', tol=0.0001, verbose=0,\n",
       "                   warm_start=False)"
      ]
     },
     "execution_count": 23,
     "metadata": {},
     "output_type": "execute_result"
    }
   ],
   "source": [
    "logreg = LogisticRegression(fit_intercept = False, C = 1e12)\n",
    "model_log2 = logreg.fit(X_train_resampled, y_train_resampled)\n",
    "model_log2"
   ]
  },
  {
   "cell_type": "code",
   "execution_count": 24,
   "metadata": {},
   "outputs": [],
   "source": [
    "y_pred_test = logreg.predict(X_test)\n",
    "y_pred_train = logreg.predict(X_train)"
   ]
  },
  {
   "cell_type": "code",
   "execution_count": 25,
   "metadata": {},
   "outputs": [
    {
     "name": "stdout",
     "output_type": "stream",
     "text": [
      "Training Accuracy:  0.7098337187534413\n",
      "Testing Accuracy:  0.6943231441048034\n"
     ]
    }
   ],
   "source": [
    "print('Training Accuracy: ', accuracy_score(y_train, y_pred_train))\n",
    "print('Testing Accuracy: ', accuracy_score(y_test, y_pred_test))"
   ]
  },
  {
   "cell_type": "markdown",
   "metadata": {},
   "source": [
    "Our accuracy score is higher for our second model. Let's take a look at other scores for our second model to see how well it's performing. "
   ]
  },
  {
   "cell_type": "markdown",
   "metadata": {},
   "source": [
    "## Further Testing of Chosen Model"
   ]
  },
  {
   "cell_type": "markdown",
   "metadata": {},
   "source": [
    "### Precision, Recall and F1-Score"
   ]
  },
  {
   "cell_type": "markdown",
   "metadata": {},
   "source": [
    "Let's score our model. The F1-Score for the training and test dataset are relatively close to one another (0.79 to 0.88 respectively). Our model test scores seem very high. Let's take a look at a ROC curve and confusion matrix for our chosen model to get a better understanding of what's going on. "
   ]
  },
  {
   "cell_type": "code",
   "execution_count": 26,
   "metadata": {},
   "outputs": [
    {
     "name": "stdout",
     "output_type": "stream",
     "text": [
      "Training Precision:  0.007921539041870993\n",
      "Testing Precision:  0.008340283569641367\n",
      "\n",
      "\n",
      "\n",
      "Training Recall:  0.8076923076923077\n",
      "Testing Recall:  0.9090909090909091\n",
      "\n",
      "\n",
      "\n",
      "Training F1-Score:  0.015689204333208816\n",
      "Testing F1-Score:  0.01652892561983471\n"
     ]
    }
   ],
   "source": [
    "print('Training Precision: ', precision_score(y_train, y_pred_train))\n",
    "print('Testing Precision: ', precision_score(y_test, y_pred_test))\n",
    "print('\\n\\n')\n",
    "\n",
    "print('Training Recall: ', recall_score(y_train, y_pred_train))\n",
    "print('Testing Recall: ', recall_score(y_test, y_pred_test))\n",
    "print('\\n\\n')\n",
    "\n",
    "print('Training F1-Score: ',f1_score(y_train, y_pred_train))\n",
    "print('Testing F1-Score: ',f1_score(y_test, y_pred_test))"
   ]
  },
  {
   "cell_type": "markdown",
   "metadata": {},
   "source": [
    "### ROC Curve & AUC"
   ]
  },
  {
   "cell_type": "code",
   "execution_count": 27,
   "metadata": {},
   "outputs": [],
   "source": [
    "#First calculate the probability scores of each of the datapoints:\n",
    "y_score = logreg.fit(X_train_resampled, y_train_resampled).decision_function(X_test)\n",
    "\n",
    "fpr, tpr, thresholds = roc_curve(y_test, y_score)"
   ]
  },
  {
   "cell_type": "code",
   "execution_count": 28,
   "metadata": {
    "scrolled": false
   },
   "outputs": [
    {
     "name": "stdout",
     "output_type": "stream",
     "text": [
      "AUC: 0.8535899957847408\n"
     ]
    },
    {
     "data": {
      "image/png": "[encoded data removed]",
      "text/plain": [
       "<Figure size 720x576 with 1 Axes>"
      ]
     },
     "metadata": {},
     "output_type": "display_data"
    }
   ],
   "source": [
    "sns.set_style(\"darkgrid\", {\"axes.facecolor\": \".9\"})\n",
    "print('AUC: {}'.format(auc(fpr, tpr)))\n",
    "plt.figure(figsize=(10,8))\n",
    "lw = 2\n",
    "plt.plot(fpr, tpr, color='darkorange',\n",
    "         lw=lw, label='ROC curve')\n",
    "plt.plot([0, 1], [0, 1], color='navy', lw=lw, linestyle='--')\n",
    "plt.xlim([0.0, 1.0])\n",
    "plt.ylim([0.0, 1.05])\n",
    "plt.yticks([i/20.0 for i in range(21)])\n",
    "plt.xticks([i/20.0 for i in range(21)])\n",
    "plt.xlabel('False Positive Rate')\n",
    "plt.ylabel('True Positive Rate')\n",
    "plt.title('Receiver operating characteristic (ROC) Curve')\n",
    "plt.legend(loc=\"lower right\")\n",
    "plt.savefig(\"../../results/Images/roc.jpg\")"
   ]
  },
  {
   "cell_type": "markdown",
   "metadata": {},
   "source": [
    "Our ROC curve is slightly above the 45 degree line. This means that it's only slightly better than random chance. Let's take a closer look at the predictions our model makes."
   ]
  },
  {
   "cell_type": "code",
   "execution_count": 29,
   "metadata": {
    "scrolled": true
   },
   "outputs": [
    {
     "data": {
      "text/html": [
       "<div>\n",
       "<style scoped>\n",
       "    .dataframe tbody tr th:only-of-type {\n",
       "        vertical-align: middle;\n",
       "    }\n",
       "\n",
       "    .dataframe tbody tr th {\n",
       "        vertical-align: top;\n",
       "    }\n",
       "\n",
       "    .dataframe thead th {\n",
       "        text-align: right;\n",
       "    }\n",
       "</style>\n",
       "<table border=\"1\" class=\"dataframe\">\n",
       "  <thead>\n",
       "    <tr style=\"text-align: right;\">\n",
       "      <th></th>\n",
       "      <th>predicted 0</th>\n",
       "      <th>predicted 1</th>\n",
       "    </tr>\n",
       "  </thead>\n",
       "  <tbody>\n",
       "    <tr>\n",
       "      <th>actual 0</th>\n",
       "      <td>2693</td>\n",
       "      <td>1189</td>\n",
       "    </tr>\n",
       "    <tr>\n",
       "      <th>actual 1</th>\n",
       "      <td>1</td>\n",
       "      <td>10</td>\n",
       "    </tr>\n",
       "  </tbody>\n",
       "</table>\n",
       "</div>"
      ],
      "text/plain": [
       "          predicted 0  predicted 1\n",
       "actual 0         2693         1189\n",
       "actual 1            1           10"
      ]
     },
     "execution_count": 29,
     "metadata": {},
     "output_type": "execute_result"
    }
   ],
   "source": [
    "conf_matrix = pd.DataFrame(confusion_matrix(y_test, y_pred_test), \n",
    "                           index = ['actual 0', 'actual 1'], \n",
    "                           columns = ['predicted 0', 'predicted 1'])\n",
    "conf_matrix"
   ]
  },
  {
   "cell_type": "code",
   "execution_count": 30,
   "metadata": {},
   "outputs": [],
   "source": [
    "tp = conf_matrix.loc['actual 0', 'predicted 0']\n",
    "tn = conf_matrix.loc['actual 1', 'predicted 1']\n",
    "fp = conf_matrix.loc['actual 0', 'predicted 1']\n",
    "fn = conf_matrix.loc['actual 1', 'predicted 0']"
   ]
  },
  {
   "cell_type": "markdown",
   "metadata": {},
   "source": [
    "Our confusion matrix looks a little odd. Let's calculate the false positive rate. The equation is found below: \n",
    "\n",
    "$$FPR = \\frac{FP}{FP + TN}$$"
   ]
  },
  {
   "cell_type": "code",
   "execution_count": 31,
   "metadata": {},
   "outputs": [
    {
     "name": "stdout",
     "output_type": "stream",
     "text": [
      "False Positive Rate: 99.16597164303586%\n"
     ]
    }
   ],
   "source": [
    "print(\"False Positive Rate: {}%\".format((fp/(fp+tn))*100))"
   ]
  },
  {
   "cell_type": "markdown",
   "metadata": {},
   "source": [
    "Our model's False positive rate is incredibly high. At this point, our model is classifying a large number of data points as positives when they are not (our dataset contains no false negatives which is telling). Let's take a look at the model's true positive rate (the calculation for true positive rate is found below). "
   ]
  },
  {
   "cell_type": "markdown",
   "metadata": {},
   "source": [
    "$$𝑇𝑃𝑅 = \\frac{𝑇𝑃}{𝑇𝑃 + 𝐹𝑁}$$"
   ]
  },
  {
   "cell_type": "code",
   "execution_count": 32,
   "metadata": {},
   "outputs": [
    {
     "name": "stdout",
     "output_type": "stream",
     "text": [
      "True Positive Rate: 99.96288047512992%\n"
     ]
    }
   ],
   "source": [
    "print(\"True Positive Rate: {}%\".format((tp/(tp+fn))*100))"
   ]
  },
  {
   "cell_type": "markdown",
   "metadata": {},
   "source": [
    "Our model has a true positive rate of 100%. This means that our model accurately predicting every gas station that will fail a test, but it also predicts a high number of false positives. "
   ]
  },
  {
   "cell_type": "markdown",
   "metadata": {},
   "source": [
    "## Summary & Caveats"
   ]
  },
  {
   "cell_type": "markdown",
   "metadata": {},
   "source": [
    "### Logistic Regression Analysis"
   ]
  },
  {
   "cell_type": "markdown",
   "metadata": {},
   "source": [
    "Out of the two models built for predicting failure of the vapor liquid pressure test, our second model had a higher accuracy score. The ROC curve for our model was promising, but the confusion matrix revealed that our model has a high false positive rate (over 99%). This means that although we correctly identified 10 out of 11 tests as failing, we also falsely predicted almost 1,200 other tests would fail. \n",
    "\n",
    "For this particular problem, high sensitivity for our model is desirable, but a sensitivity near 1 is going to produce a large number of false positives which could be costly for this particular problem. In order to improve the model we could tune the threshold, but because the precision and F1 score were so low, we it would be more desirable to use additional predictors in an updated model. "
   ]
  },
  {
   "cell_type": "markdown",
   "metadata": {},
   "source": [
    "# Conclusion & Next Steps"
   ]
  },
  {
   "cell_type": "markdown",
   "metadata": {},
   "source": [
    "## Conclusion & Limitations"
   ]
  },
  {
   "cell_type": "markdown",
   "metadata": {},
   "source": [
    "There is obvious seasonal trends due to the nature of the regulations. Although our model correctly identified 10 out of 11 of our test failures, this model had a false positive rate that was too high for our usage purposes. Additional models need to be built and tested in order to improve the F1 and precision scores. "
   ]
  },
  {
   "cell_type": "markdown",
   "metadata": {},
   "source": [
    "## Next Steps"
   ]
  },
  {
   "cell_type": "markdown",
   "metadata": {},
   "source": [
    "* Do tests that pass but barely pass lead to more complaints?\n",
    "* Do certain regions of Tennessee have more failures in certain seasons\n",
    "* Do certain brands of gas stations or distributors deliver more failures or have more complaints against them"
   ]
  }
 ],
 "metadata": {
  "kernelspec": {
   "display_name": "Python 3",
   "language": "python",
   "name": "python3"
  },
  "language_info": {
   "codemirror_mode": {
    "name": "ipython",
    "version": 3
   },
   "file_extension": ".py",
   "mimetype": "text/x-python",
   "name": "python",
   "nbconvert_exporter": "python",
   "pygments_lexer": "ipython3",
   "version": "3.7.1"
  },
  "toc": {
   "base_numbering": 1,
   "nav_menu": {},
   "number_sections": true,
   "sideBar": true,
   "skip_h1_title": false,
   "title_cell": "Table of Contents",
   "title_sidebar": "Contents",
   "toc_cell": false,
   "toc_position": {
    "height": "calc(100% - 180px)",
    "left": "10px",
    "top": "150px",
    "width": "255.4px"
   },
   "toc_section_display": true,
   "toc_window_display": true
  }
 },
 "nbformat": 4,
 "nbformat_minor": 2
}
